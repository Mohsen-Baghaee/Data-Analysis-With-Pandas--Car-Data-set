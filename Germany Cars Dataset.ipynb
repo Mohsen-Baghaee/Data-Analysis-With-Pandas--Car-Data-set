{
 "cells": [
  {
   "cell_type": "markdown",
   "metadata": {},
   "source": [
    "# Prepare"
   ]
  },
  {
   "cell_type": "code",
   "execution_count": 1,
   "metadata": {
    "scrolled": true
   },
   "outputs": [
    {
     "data": {
      "text/html": [
       "<div>\n",
       "<style scoped>\n",
       "    .dataframe tbody tr th:only-of-type {\n",
       "        vertical-align: middle;\n",
       "    }\n",
       "\n",
       "    .dataframe tbody tr th {\n",
       "        vertical-align: top;\n",
       "    }\n",
       "\n",
       "    .dataframe thead th {\n",
       "        text-align: right;\n",
       "    }\n",
       "</style>\n",
       "<table border=\"1\" class=\"dataframe\">\n",
       "  <thead>\n",
       "    <tr style=\"text-align: right;\">\n",
       "      <th></th>\n",
       "      <th>mileage</th>\n",
       "      <th>make</th>\n",
       "      <th>model</th>\n",
       "      <th>fuel</th>\n",
       "      <th>gear</th>\n",
       "      <th>offerType</th>\n",
       "      <th>price</th>\n",
       "      <th>hp</th>\n",
       "      <th>year</th>\n",
       "    </tr>\n",
       "  </thead>\n",
       "  <tbody>\n",
       "    <tr>\n",
       "      <th>0</th>\n",
       "      <td>235000</td>\n",
       "      <td>BMW</td>\n",
       "      <td>316</td>\n",
       "      <td>Diesel</td>\n",
       "      <td>Manual</td>\n",
       "      <td>Used</td>\n",
       "      <td>6800</td>\n",
       "      <td>116.0</td>\n",
       "      <td>2011</td>\n",
       "    </tr>\n",
       "    <tr>\n",
       "      <th>1</th>\n",
       "      <td>92800</td>\n",
       "      <td>Volkswagen</td>\n",
       "      <td>Golf</td>\n",
       "      <td>Gasoline</td>\n",
       "      <td>Manual</td>\n",
       "      <td>Used</td>\n",
       "      <td>6877</td>\n",
       "      <td>122.0</td>\n",
       "      <td>2011</td>\n",
       "    </tr>\n",
       "    <tr>\n",
       "      <th>2</th>\n",
       "      <td>149300</td>\n",
       "      <td>SEAT</td>\n",
       "      <td>Exeo</td>\n",
       "      <td>Gasoline</td>\n",
       "      <td>Manual</td>\n",
       "      <td>Used</td>\n",
       "      <td>6900</td>\n",
       "      <td>160.0</td>\n",
       "      <td>2011</td>\n",
       "    </tr>\n",
       "    <tr>\n",
       "      <th>3</th>\n",
       "      <td>96200</td>\n",
       "      <td>Renault</td>\n",
       "      <td>Megane</td>\n",
       "      <td>Gasoline</td>\n",
       "      <td>Manual</td>\n",
       "      <td>Used</td>\n",
       "      <td>6950</td>\n",
       "      <td>110.0</td>\n",
       "      <td>2011</td>\n",
       "    </tr>\n",
       "    <tr>\n",
       "      <th>4</th>\n",
       "      <td>156000</td>\n",
       "      <td>Peugeot</td>\n",
       "      <td>308</td>\n",
       "      <td>Gasoline</td>\n",
       "      <td>Manual</td>\n",
       "      <td>Used</td>\n",
       "      <td>6950</td>\n",
       "      <td>156.0</td>\n",
       "      <td>2011</td>\n",
       "    </tr>\n",
       "  </tbody>\n",
       "</table>\n",
       "</div>"
      ],
      "text/plain": [
       "   mileage        make   model      fuel    gear offerType  price     hp  year\n",
       "0   235000         BMW     316    Diesel  Manual      Used   6800  116.0  2011\n",
       "1    92800  Volkswagen    Golf  Gasoline  Manual      Used   6877  122.0  2011\n",
       "2   149300        SEAT    Exeo  Gasoline  Manual      Used   6900  160.0  2011\n",
       "3    96200     Renault  Megane  Gasoline  Manual      Used   6950  110.0  2011\n",
       "4   156000     Peugeot     308  Gasoline  Manual      Used   6950  156.0  2011"
      ]
     },
     "execution_count": 1,
     "metadata": {},
     "output_type": "execute_result"
    }
   ],
   "source": [
    "import pandas as pd\n",
    "import os\n",
    "import matplotlib.pyplot as plt\n",
    "%matplotlib inline\n",
    "car = pd.read_csv('D:\\Prog\\DS\\G-car\\car.csv')\n",
    "car.head()"
   ]
  },
  {
   "cell_type": "code",
   "execution_count": 2,
   "metadata": {
    "scrolled": true
   },
   "outputs": [
    {
     "name": "stderr",
     "output_type": "stream",
     "text": [
      "<ipython-input-2-d77db933261a>:1: UserWarning: Boolean Series key will be reindexed to match DataFrame index.\n",
      "  car[car.fuel =='Electric/Gasoline'][car.year == 2011]\n"
     ]
    },
    {
     "data": {
      "text/html": [
       "<div>\n",
       "<style scoped>\n",
       "    .dataframe tbody tr th:only-of-type {\n",
       "        vertical-align: middle;\n",
       "    }\n",
       "\n",
       "    .dataframe tbody tr th {\n",
       "        vertical-align: top;\n",
       "    }\n",
       "\n",
       "    .dataframe thead th {\n",
       "        text-align: right;\n",
       "    }\n",
       "</style>\n",
       "<table border=\"1\" class=\"dataframe\">\n",
       "  <thead>\n",
       "    <tr style=\"text-align: right;\">\n",
       "      <th></th>\n",
       "      <th>mileage</th>\n",
       "      <th>make</th>\n",
       "      <th>model</th>\n",
       "      <th>fuel</th>\n",
       "      <th>gear</th>\n",
       "      <th>offerType</th>\n",
       "      <th>price</th>\n",
       "      <th>hp</th>\n",
       "      <th>year</th>\n",
       "    </tr>\n",
       "  </thead>\n",
       "  <tbody>\n",
       "    <tr>\n",
       "      <th>5</th>\n",
       "      <td>147000</td>\n",
       "      <td>Toyota</td>\n",
       "      <td>Auris</td>\n",
       "      <td>Electric/Gasoline</td>\n",
       "      <td>Automatic</td>\n",
       "      <td>Used</td>\n",
       "      <td>6950</td>\n",
       "      <td>99.0</td>\n",
       "      <td>2011</td>\n",
       "    </tr>\n",
       "    <tr>\n",
       "      <th>3369</th>\n",
       "      <td>93709</td>\n",
       "      <td>Toyota</td>\n",
       "      <td>Auris</td>\n",
       "      <td>Electric/Gasoline</td>\n",
       "      <td>Automatic</td>\n",
       "      <td>Used</td>\n",
       "      <td>7990</td>\n",
       "      <td>99.0</td>\n",
       "      <td>2011</td>\n",
       "    </tr>\n",
       "    <tr>\n",
       "      <th>3575</th>\n",
       "      <td>71500</td>\n",
       "      <td>Toyota</td>\n",
       "      <td>Prius</td>\n",
       "      <td>Electric/Gasoline</td>\n",
       "      <td>Automatic</td>\n",
       "      <td>Used</td>\n",
       "      <td>8900</td>\n",
       "      <td>99.0</td>\n",
       "      <td>2011</td>\n",
       "    </tr>\n",
       "    <tr>\n",
       "      <th>5295</th>\n",
       "      <td>65000</td>\n",
       "      <td>Honda</td>\n",
       "      <td>Jazz</td>\n",
       "      <td>Electric/Gasoline</td>\n",
       "      <td>Automatic</td>\n",
       "      <td>Used</td>\n",
       "      <td>9890</td>\n",
       "      <td>88.0</td>\n",
       "      <td>2011</td>\n",
       "    </tr>\n",
       "    <tr>\n",
       "      <th>6986</th>\n",
       "      <td>72700</td>\n",
       "      <td>Toyota</td>\n",
       "      <td>Auris</td>\n",
       "      <td>Electric/Gasoline</td>\n",
       "      <td>Automatic</td>\n",
       "      <td>Used</td>\n",
       "      <td>10990</td>\n",
       "      <td>136.0</td>\n",
       "      <td>2011</td>\n",
       "    </tr>\n",
       "    <tr>\n",
       "      <th>9889</th>\n",
       "      <td>115486</td>\n",
       "      <td>Toyota</td>\n",
       "      <td>Auris</td>\n",
       "      <td>Electric/Gasoline</td>\n",
       "      <td>Automatic</td>\n",
       "      <td>Used</td>\n",
       "      <td>7580</td>\n",
       "      <td>99.0</td>\n",
       "      <td>2011</td>\n",
       "    </tr>\n",
       "    <tr>\n",
       "      <th>10974</th>\n",
       "      <td>115000</td>\n",
       "      <td>Lexus</td>\n",
       "      <td>GS 450h</td>\n",
       "      <td>Electric/Gasoline</td>\n",
       "      <td>Automatic</td>\n",
       "      <td>Used</td>\n",
       "      <td>13900</td>\n",
       "      <td>345.0</td>\n",
       "      <td>2011</td>\n",
       "    </tr>\n",
       "    <tr>\n",
       "      <th>11584</th>\n",
       "      <td>63000</td>\n",
       "      <td>Honda</td>\n",
       "      <td>CR-Z</td>\n",
       "      <td>Electric/Gasoline</td>\n",
       "      <td>Manual</td>\n",
       "      <td>Used</td>\n",
       "      <td>7800</td>\n",
       "      <td>114.0</td>\n",
       "      <td>2011</td>\n",
       "    </tr>\n",
       "    <tr>\n",
       "      <th>11808</th>\n",
       "      <td>97722</td>\n",
       "      <td>Toyota</td>\n",
       "      <td>Prius</td>\n",
       "      <td>Electric/Gasoline</td>\n",
       "      <td>Automatic</td>\n",
       "      <td>Used</td>\n",
       "      <td>10200</td>\n",
       "      <td>99.0</td>\n",
       "      <td>2011</td>\n",
       "    </tr>\n",
       "    <tr>\n",
       "      <th>11812</th>\n",
       "      <td>111600</td>\n",
       "      <td>Toyota</td>\n",
       "      <td>Prius</td>\n",
       "      <td>Electric/Gasoline</td>\n",
       "      <td>Automatic</td>\n",
       "      <td>Used</td>\n",
       "      <td>10397</td>\n",
       "      <td>136.0</td>\n",
       "      <td>2011</td>\n",
       "    </tr>\n",
       "    <tr>\n",
       "      <th>12023</th>\n",
       "      <td>83000</td>\n",
       "      <td>Lexus</td>\n",
       "      <td>CT 200h</td>\n",
       "      <td>Electric/Gasoline</td>\n",
       "      <td>Automatic</td>\n",
       "      <td>Used</td>\n",
       "      <td>16990</td>\n",
       "      <td>136.0</td>\n",
       "      <td>2011</td>\n",
       "    </tr>\n",
       "    <tr>\n",
       "      <th>13502</th>\n",
       "      <td>96349</td>\n",
       "      <td>Lexus</td>\n",
       "      <td>CT 200h</td>\n",
       "      <td>Electric/Gasoline</td>\n",
       "      <td>Automatic</td>\n",
       "      <td>Used</td>\n",
       "      <td>10750</td>\n",
       "      <td>136.0</td>\n",
       "      <td>2011</td>\n",
       "    </tr>\n",
       "    <tr>\n",
       "      <th>16507</th>\n",
       "      <td>132130</td>\n",
       "      <td>Toyota</td>\n",
       "      <td>Prius</td>\n",
       "      <td>Electric/Gasoline</td>\n",
       "      <td>Automatic</td>\n",
       "      <td>Used</td>\n",
       "      <td>8990</td>\n",
       "      <td>99.0</td>\n",
       "      <td>2011</td>\n",
       "    </tr>\n",
       "    <tr>\n",
       "      <th>17361</th>\n",
       "      <td>85990</td>\n",
       "      <td>Toyota</td>\n",
       "      <td>Prius</td>\n",
       "      <td>Electric/Gasoline</td>\n",
       "      <td>Automatic</td>\n",
       "      <td>Used</td>\n",
       "      <td>11590</td>\n",
       "      <td>99.0</td>\n",
       "      <td>2011</td>\n",
       "    </tr>\n",
       "    <tr>\n",
       "      <th>32388</th>\n",
       "      <td>107852</td>\n",
       "      <td>Toyota</td>\n",
       "      <td>Auris</td>\n",
       "      <td>Electric/Gasoline</td>\n",
       "      <td>Automatic</td>\n",
       "      <td>Used</td>\n",
       "      <td>7199</td>\n",
       "      <td>99.0</td>\n",
       "      <td>2011</td>\n",
       "    </tr>\n",
       "    <tr>\n",
       "      <th>32391</th>\n",
       "      <td>78500</td>\n",
       "      <td>Toyota</td>\n",
       "      <td>Auris</td>\n",
       "      <td>Electric/Gasoline</td>\n",
       "      <td>Automatic</td>\n",
       "      <td>Used</td>\n",
       "      <td>7300</td>\n",
       "      <td>99.0</td>\n",
       "      <td>2011</td>\n",
       "    </tr>\n",
       "    <tr>\n",
       "      <th>33994</th>\n",
       "      <td>107000</td>\n",
       "      <td>Honda</td>\n",
       "      <td>CR-Z</td>\n",
       "      <td>Electric/Gasoline</td>\n",
       "      <td>Manual</td>\n",
       "      <td>Used</td>\n",
       "      <td>7150</td>\n",
       "      <td>114.0</td>\n",
       "      <td>2011</td>\n",
       "    </tr>\n",
       "    <tr>\n",
       "      <th>34042</th>\n",
       "      <td>103150</td>\n",
       "      <td>Toyota</td>\n",
       "      <td>Auris</td>\n",
       "      <td>Electric/Gasoline</td>\n",
       "      <td>Automatic</td>\n",
       "      <td>Used</td>\n",
       "      <td>7350</td>\n",
       "      <td>99.0</td>\n",
       "      <td>2011</td>\n",
       "    </tr>\n",
       "    <tr>\n",
       "      <th>34086</th>\n",
       "      <td>220000</td>\n",
       "      <td>Toyota</td>\n",
       "      <td>Prius</td>\n",
       "      <td>Electric/Gasoline</td>\n",
       "      <td>Automatic</td>\n",
       "      <td>Used</td>\n",
       "      <td>5200</td>\n",
       "      <td>99.0</td>\n",
       "      <td>2011</td>\n",
       "    </tr>\n",
       "    <tr>\n",
       "      <th>34254</th>\n",
       "      <td>172000</td>\n",
       "      <td>Toyota</td>\n",
       "      <td>Prius</td>\n",
       "      <td>Electric/Gasoline</td>\n",
       "      <td>Automatic</td>\n",
       "      <td>Used</td>\n",
       "      <td>7900</td>\n",
       "      <td>99.0</td>\n",
       "      <td>2011</td>\n",
       "    </tr>\n",
       "    <tr>\n",
       "      <th>34351</th>\n",
       "      <td>110000</td>\n",
       "      <td>Toyota</td>\n",
       "      <td>Prius</td>\n",
       "      <td>Electric/Gasoline</td>\n",
       "      <td>Automatic</td>\n",
       "      <td>Used</td>\n",
       "      <td>9900</td>\n",
       "      <td>99.0</td>\n",
       "      <td>2011</td>\n",
       "    </tr>\n",
       "    <tr>\n",
       "      <th>34666</th>\n",
       "      <td>71300</td>\n",
       "      <td>Honda</td>\n",
       "      <td>Insight</td>\n",
       "      <td>Electric/Gasoline</td>\n",
       "      <td>Automatic</td>\n",
       "      <td>Used</td>\n",
       "      <td>8600</td>\n",
       "      <td>98.0</td>\n",
       "      <td>2011</td>\n",
       "    </tr>\n",
       "  </tbody>\n",
       "</table>\n",
       "</div>"
      ],
      "text/plain": [
       "       mileage    make    model               fuel       gear offerType  \\\n",
       "5       147000  Toyota    Auris  Electric/Gasoline  Automatic      Used   \n",
       "3369     93709  Toyota    Auris  Electric/Gasoline  Automatic      Used   \n",
       "3575     71500  Toyota    Prius  Electric/Gasoline  Automatic      Used   \n",
       "5295     65000   Honda     Jazz  Electric/Gasoline  Automatic      Used   \n",
       "6986     72700  Toyota    Auris  Electric/Gasoline  Automatic      Used   \n",
       "9889    115486  Toyota    Auris  Electric/Gasoline  Automatic      Used   \n",
       "10974   115000   Lexus  GS 450h  Electric/Gasoline  Automatic      Used   \n",
       "11584    63000   Honda     CR-Z  Electric/Gasoline     Manual      Used   \n",
       "11808    97722  Toyota    Prius  Electric/Gasoline  Automatic      Used   \n",
       "11812   111600  Toyota    Prius  Electric/Gasoline  Automatic      Used   \n",
       "12023    83000   Lexus  CT 200h  Electric/Gasoline  Automatic      Used   \n",
       "13502    96349   Lexus  CT 200h  Electric/Gasoline  Automatic      Used   \n",
       "16507   132130  Toyota    Prius  Electric/Gasoline  Automatic      Used   \n",
       "17361    85990  Toyota    Prius  Electric/Gasoline  Automatic      Used   \n",
       "32388   107852  Toyota    Auris  Electric/Gasoline  Automatic      Used   \n",
       "32391    78500  Toyota    Auris  Electric/Gasoline  Automatic      Used   \n",
       "33994   107000   Honda     CR-Z  Electric/Gasoline     Manual      Used   \n",
       "34042   103150  Toyota    Auris  Electric/Gasoline  Automatic      Used   \n",
       "34086   220000  Toyota    Prius  Electric/Gasoline  Automatic      Used   \n",
       "34254   172000  Toyota    Prius  Electric/Gasoline  Automatic      Used   \n",
       "34351   110000  Toyota    Prius  Electric/Gasoline  Automatic      Used   \n",
       "34666    71300   Honda  Insight  Electric/Gasoline  Automatic      Used   \n",
       "\n",
       "       price     hp  year  \n",
       "5       6950   99.0  2011  \n",
       "3369    7990   99.0  2011  \n",
       "3575    8900   99.0  2011  \n",
       "5295    9890   88.0  2011  \n",
       "6986   10990  136.0  2011  \n",
       "9889    7580   99.0  2011  \n",
       "10974  13900  345.0  2011  \n",
       "11584   7800  114.0  2011  \n",
       "11808  10200   99.0  2011  \n",
       "11812  10397  136.0  2011  \n",
       "12023  16990  136.0  2011  \n",
       "13502  10750  136.0  2011  \n",
       "16507   8990   99.0  2011  \n",
       "17361  11590   99.0  2011  \n",
       "32388   7199   99.0  2011  \n",
       "32391   7300   99.0  2011  \n",
       "33994   7150  114.0  2011  \n",
       "34042   7350   99.0  2011  \n",
       "34086   5200   99.0  2011  \n",
       "34254   7900   99.0  2011  \n",
       "34351   9900   99.0  2011  \n",
       "34666   8600   98.0  2011  "
      ]
     },
     "execution_count": 2,
     "metadata": {},
     "output_type": "execute_result"
    }
   ],
   "source": [
    "car[car.fuel =='Electric/Gasoline'][car.year == 2011]"
   ]
  },
  {
   "cell_type": "code",
   "execution_count": 6,
   "metadata": {},
   "outputs": [
    {
     "data": {
      "text/plain": [
       "0                   Diesel\n",
       "1                 Gasoline\n",
       "2                 Gasoline\n",
       "3                 Gasoline\n",
       "4                 Gasoline\n",
       "               ...        \n",
       "46400    Electric/Gasoline\n",
       "46401    Electric/Gasoline\n",
       "46402    Electric/Gasoline\n",
       "46403    Electric/Gasoline\n",
       "46404    Electric/Gasoline\n",
       "Name: fuel, Length: 46405, dtype: object"
      ]
     },
     "execution_count": 6,
     "metadata": {},
     "output_type": "execute_result"
    }
   ],
   "source": [
    "car.fuel"
   ]
  },
  {
   "cell_type": "code",
   "execution_count": 2,
   "metadata": {},
   "outputs": [
    {
     "name": "stdout",
     "output_type": "stream",
     "text": [
      "<class 'pandas.core.frame.DataFrame'>\n",
      "RangeIndex: 46405 entries, 0 to 46404\n",
      "Data columns (total 9 columns):\n",
      " #   Column     Non-Null Count  Dtype  \n",
      "---  ------     --------------  -----  \n",
      " 0   mileage    46405 non-null  int64  \n",
      " 1   make       46405 non-null  object \n",
      " 2   model      46262 non-null  object \n",
      " 3   fuel       46405 non-null  object \n",
      " 4   gear       46223 non-null  object \n",
      " 5   offerType  46405 non-null  object \n",
      " 6   price      46405 non-null  int64  \n",
      " 7   hp         46376 non-null  float64\n",
      " 8   year       46405 non-null  int64  \n",
      "dtypes: float64(1), int64(3), object(5)\n",
      "memory usage: 3.2+ MB\n"
     ]
    }
   ],
   "source": [
    "car.info()"
   ]
  },
  {
   "cell_type": "code",
   "execution_count": 50,
   "metadata": {
    "scrolled": true
   },
   "outputs": [
    {
     "data": {
      "text/plain": [
       "<AxesSubplot:xlabel='year'>"
      ]
     },
     "execution_count": 50,
     "metadata": {},
     "output_type": "execute_result"
    },
    {
     "data": {
      "image/png": "[encoded data removed]",
      "text/plain": [
       "<Figure size 1008x432 with 1 Axes>"
      ]
     },
     "metadata": {
      "needs_background": "light"
     },
     "output_type": "display_data"
    }
   ],
   "source": [
    "\n",
    "car.groupby('year').size().plot(ylim=(2000, 6000), figsize=(14, 6), kind='line', grid=True)\n"
   ]
  },
  {
   "cell_type": "code",
   "execution_count": 6,
   "metadata": {},
   "outputs": [
    {
     "data": {
      "text/plain": [
       "Text(0, 0.5, 'cars')"
      ]
     },
     "execution_count": 6,
     "metadata": {},
     "output_type": "execute_result"
    },
    {
     "data": {
      "image/png": "[encoded data removed]",
      "text/plain": [
       "<Figure size 720x432 with 1 Axes>"
      ]
     },
     "metadata": {
      "needs_background": "light"
     },
     "output_type": "display_data"
    }
   ],
   "source": [
    "ax = car[car.fuel=='Electric'].groupby('year').size().plot(title='Electric cars per year', ylim=(0, 300),  figsize=(10, 6), kind='line')\n",
    "ax.set_ylabel('cars')"
   ]
  },
  {
   "cell_type": "code",
   "execution_count": 7,
   "metadata": {},
   "outputs": [
    {
     "data": {
      "text/plain": [
       "mileage        0\n",
       "make           0\n",
       "model        143\n",
       "fuel           0\n",
       "gear         182\n",
       "offerType      0\n",
       "price          0\n",
       "hp            29\n",
       "year           0\n",
       "dtype: int64"
      ]
     },
     "execution_count": 7,
     "metadata": {},
     "output_type": "execute_result"
    }
   ],
   "source": [
    "car.isna().sum()"
   ]
  },
  {
   "cell_type": "code",
   "execution_count": 8,
   "metadata": {},
   "outputs": [
    {
     "data": {
      "text/plain": [
       "(46405, 9)"
      ]
     },
     "execution_count": 8,
     "metadata": {},
     "output_type": "execute_result"
    }
   ],
   "source": [
    "car.shape"
   ]
  },
  {
   "cell_type": "code",
   "execution_count": 9,
   "metadata": {},
   "outputs": [
    {
     "name": "stdout",
     "output_type": "stream",
     "text": [
      "<class 'pandas.core.frame.DataFrame'>\n",
      "RangeIndex: 46405 entries, 0 to 46404\n",
      "Data columns (total 9 columns):\n",
      " #   Column     Non-Null Count  Dtype  \n",
      "---  ------     --------------  -----  \n",
      " 0   mileage    46405 non-null  int64  \n",
      " 1   make       46405 non-null  object \n",
      " 2   model      46262 non-null  object \n",
      " 3   fuel       46405 non-null  object \n",
      " 4   gear       46223 non-null  object \n",
      " 5   offerType  46405 non-null  object \n",
      " 6   price      46405 non-null  int64  \n",
      " 7   hp         46376 non-null  float64\n",
      " 8   year       46405 non-null  int64  \n",
      "dtypes: float64(1), int64(3), object(5)\n",
      "memory usage: 3.2+ MB\n"
     ]
    }
   ],
   "source": [
    "car.info()"
   ]
  },
  {
   "cell_type": "code",
   "execution_count": 10,
   "metadata": {},
   "outputs": [
    {
     "name": "stdout",
     "output_type": "stream",
     "text": [
      "<class 'pandas.core.frame.DataFrame'>\n",
      "RangeIndex: 46405 entries, 0 to 46404\n",
      "Data columns (total 9 columns):\n",
      " #   Column     Non-Null Count  Dtype  \n",
      "---  ------     --------------  -----  \n",
      " 0   mileage    46405 non-null  int64  \n",
      " 1   make       46405 non-null  object \n",
      " 2   model      46262 non-null  object \n",
      " 3   fuel       46405 non-null  object \n",
      " 4   gear       46223 non-null  object \n",
      " 5   offerType  46405 non-null  object \n",
      " 6   price      46405 non-null  int64  \n",
      " 7   hp         46376 non-null  float64\n",
      " 8   year       46405 non-null  int64  \n",
      "dtypes: float64(1), int64(3), object(5)\n",
      "memory usage: 15.4 MB\n"
     ]
    }
   ],
   "source": [
    "car.info(memory_usage='deep')"
   ]
  },
  {
   "cell_type": "code",
   "execution_count": 11,
   "metadata": {},
   "outputs": [
    {
     "data": {
      "text/plain": [
       "Index            128\n",
       "mileage       371240\n",
       "make         2927714\n",
       "model        2887960\n",
       "fuel         2995353\n",
       "gear         2965682\n",
       "offerType    2891024\n",
       "price         371240\n",
       "hp            371240\n",
       "year          371240\n",
       "dtype: int64"
      ]
     },
     "execution_count": 11,
     "metadata": {},
     "output_type": "execute_result"
    }
   ],
   "source": [
    "car.memory_usage(deep=True)"
   ]
  },
  {
   "cell_type": "code",
   "execution_count": 12,
   "metadata": {},
   "outputs": [
    {
     "data": {
      "text/plain": [
       "16152821"
      ]
     },
     "execution_count": 12,
     "metadata": {},
     "output_type": "execute_result"
    }
   ],
   "source": [
    "car.memory_usage(deep=True).sum()"
   ]
  },
  {
   "cell_type": "markdown",
   "metadata": {},
   "source": [
    "## make strings into category type in order to lower the memory usage"
   ]
  },
  {
   "cell_type": "code",
   "execution_count": 13,
   "metadata": {},
   "outputs": [
    {
     "data": {
      "text/plain": [
       "['Demonstration', \"Employee's car\", 'New', 'Pre-registered', 'Used']"
      ]
     },
     "execution_count": 13,
     "metadata": {},
     "output_type": "execute_result"
    }
   ],
   "source": [
    "sorted(car.offerType.unique())"
   ]
  },
  {
   "cell_type": "code",
   "execution_count": 14,
   "metadata": {},
   "outputs": [
    {
     "data": {
      "text/plain": [
       "array(['Manual', 'Automatic', nan, 'Semi-automatic'], dtype=object)"
      ]
     },
     "execution_count": 14,
     "metadata": {},
     "output_type": "execute_result"
    }
   ],
   "source": [
    "car.gear.unique()"
   ]
  },
  {
   "cell_type": "code",
   "execution_count": 15,
   "metadata": {},
   "outputs": [
    {
     "data": {
      "text/plain": [
       "array([2011, 2012, 2013, 2014, 2015, 2016, 2017, 2018, 2019, 2020, 2021],\n",
       "      dtype=int64)"
      ]
     },
     "execution_count": 15,
     "metadata": {},
     "output_type": "execute_result"
    }
   ],
   "source": [
    "car.year.unique()"
   ]
  },
  {
   "cell_type": "code",
   "execution_count": 16,
   "metadata": {},
   "outputs": [],
   "source": [
    "car['offerType'] = car.offerType.astype('category')\n",
    "car['gear'] = car.gear.astype('category')\n",
    "car['year'] = car.year.astype('category')"
   ]
  },
  {
   "cell_type": "code",
   "execution_count": 17,
   "metadata": {},
   "outputs": [
    {
     "data": {
      "text/plain": [
       "0    4\n",
       "1    4\n",
       "2    4\n",
       "3    4\n",
       "4    4\n",
       "dtype: int8"
      ]
     },
     "execution_count": 17,
     "metadata": {},
     "output_type": "execute_result"
    }
   ],
   "source": [
    "car.offerType.cat.codes.head()"
   ]
  },
  {
   "cell_type": "code",
   "execution_count": 18,
   "metadata": {},
   "outputs": [
    {
     "data": {
      "text/plain": [
       "Index            128\n",
       "mileage       371240\n",
       "make         2927714\n",
       "model        2887960\n",
       "fuel         2995353\n",
       "gear           46685\n",
       "offerType      46898\n",
       "price         371240\n",
       "hp            371240\n",
       "year           46813\n",
       "dtype: int64"
      ]
     },
     "execution_count": 18,
     "metadata": {},
     "output_type": "execute_result"
    }
   ],
   "source": [
    "car.memory_usage(deep=True)"
   ]
  },
  {
   "cell_type": "code",
   "execution_count": 19,
   "metadata": {
    "scrolled": true
   },
   "outputs": [
    {
     "data": {
      "text/plain": [
       "0    Used\n",
       "1    Used\n",
       "2    Used\n",
       "3    Used\n",
       "4    Used\n",
       "Name: offerType, dtype: category\n",
       "Categories (5, object): ['Demonstration', 'Employee's car', 'New', 'Pre-registered', 'Used']"
      ]
     },
     "execution_count": 19,
     "metadata": {},
     "output_type": "execute_result"
    }
   ],
   "source": [
    "car.offerType.head()"
   ]
  },
  {
   "cell_type": "markdown",
   "metadata": {},
   "source": [
    "## Types of Fuel"
   ]
  },
  {
   "cell_type": "code",
   "execution_count": 20,
   "metadata": {
    "scrolled": true
   },
   "outputs": [
    {
     "data": {
      "text/plain": [
       "['-/- (Fuel)',\n",
       " 'CNG',\n",
       " 'Diesel',\n",
       " 'Electric',\n",
       " 'Electric/Diesel',\n",
       " 'Electric/Gasoline',\n",
       " 'Ethanol',\n",
       " 'Gasoline',\n",
       " 'Hydrogen',\n",
       " 'LPG',\n",
       " 'Others']"
      ]
     },
     "execution_count": 20,
     "metadata": {},
     "output_type": "execute_result"
    }
   ],
   "source": [
    "sorted(car.fuel.unique())"
   ]
  },
  {
   "cell_type": "code",
   "execution_count": 21,
   "metadata": {},
   "outputs": [
    {
     "data": {
      "text/plain": [
       "26"
      ]
     },
     "execution_count": 21,
     "metadata": {},
     "output_type": "execute_result"
    }
   ],
   "source": [
    "inx = car.loc[car.fuel == '-/- (Fuel)'].index.tolist()\n",
    "len(inx)"
   ]
  },
  {
   "cell_type": "code",
   "execution_count": 22,
   "metadata": {},
   "outputs": [
    {
     "data": {
      "text/plain": [
       "'C:\\\\Users\\\\RGS'"
      ]
     },
     "execution_count": 22,
     "metadata": {},
     "output_type": "execute_result"
    }
   ],
   "source": [
    "path = os.getcwd()\n",
    "os.chdir('C:\\\\Users\\\\RGS\\\\Desktop')\n",
    "path"
   ]
  },
  {
   "cell_type": "code",
   "execution_count": 23,
   "metadata": {},
   "outputs": [
    {
     "data": {
      "text/plain": [
       "[3907, 3908, 7091, 28409]"
      ]
     },
     "execution_count": 23,
     "metadata": {},
     "output_type": "execute_result"
    }
   ],
   "source": [
    "ft = pd.read_csv('fuel.txt', sep=\" \", header=None, names=['fuel'])\n",
    "ft['number'] = inx\n",
    "ft.loc['Gasoline', 'number'].tolist()\n",
    "ft.loc['Diesel', 'number'].tolist()\n",
    "ft.loc['Electric', 'number'].tolist()"
   ]
  },
  {
   "cell_type": "code",
   "execution_count": 24,
   "metadata": {},
   "outputs": [
    {
     "name": "stderr",
     "output_type": "stream",
     "text": [
      "C:\\ProgramData\\Anaconda3\\lib\\site-packages\\pandas\\core\\indexing.py:670: SettingWithCopyWarning: \n",
      "A value is trying to be set on a copy of a slice from a DataFrame\n",
      "\n",
      "See the caveats in the documentation: https://pandas.pydata.org/pandas-docs/stable/user_guide/indexing.html#returning-a-view-versus-a-copy\n",
      "  iloc._setitem_with_indexer(indexer, value)\n"
     ]
    }
   ],
   "source": [
    "#car.iat[286,3] = 'Gasoline'\n",
    "car.iloc[[286, 776, 3661, 12131, 12549, 14010, 17712, 23938, 32479, 33142, 33891, 38049], 3] = 'Gasoline'\n",
    "car.loc[[303, 2986, 4869, 19983, 21476, 25814, 27314, 29397, 36918, 39762], 'fuel'] = 'Diesel'\n",
    "car.fuel.iloc[[3907, 3908, 7091, 28409]] = 'Electric'"
   ]
  },
  {
   "cell_type": "code",
   "execution_count": 25,
   "metadata": {},
   "outputs": [
    {
     "data": {
      "text/plain": [
       "mileage        120500\n",
       "make            Honda\n",
       "model           Civic\n",
       "fuel         Gasoline\n",
       "gear           Manual\n",
       "offerType        Used\n",
       "price            8990\n",
       "hp                141\n",
       "year             2014\n",
       "Name: 286, dtype: object"
      ]
     },
     "execution_count": 25,
     "metadata": {},
     "output_type": "execute_result"
    }
   ],
   "source": [
    "car.loc[286]"
   ]
  },
  {
   "cell_type": "code",
   "execution_count": 26,
   "metadata": {},
   "outputs": [
    {
     "data": {
      "text/plain": [
       "mileage       53000\n",
       "make          Skoda\n",
       "model         Fabia\n",
       "fuel         Diesel\n",
       "gear         Manual\n",
       "offerType      Used\n",
       "price          8990\n",
       "hp              110\n",
       "year           2015\n",
       "Name: 303, dtype: object"
      ]
     },
     "execution_count": 26,
     "metadata": {},
     "output_type": "execute_result"
    }
   ],
   "source": [
    "car.loc[303]"
   ]
  },
  {
   "cell_type": "code",
   "execution_count": 27,
   "metadata": {},
   "outputs": [],
   "source": [
    "car['fuel'] = car.fuel.astype('category')"
   ]
  },
  {
   "cell_type": "code",
   "execution_count": 28,
   "metadata": {},
   "outputs": [
    {
     "data": {
      "text/plain": [
       "Index            128\n",
       "mileage       371240\n",
       "make         2927714\n",
       "model        2887960\n",
       "fuel           47376\n",
       "gear           46685\n",
       "offerType      46898\n",
       "price         371240\n",
       "hp            371240\n",
       "year           46813\n",
       "dtype: int64"
      ]
     },
     "execution_count": 28,
     "metadata": {},
     "output_type": "execute_result"
    }
   ],
   "source": [
    "car.memory_usage(deep=True)"
   ]
  },
  {
   "cell_type": "markdown",
   "metadata": {},
   "source": [
    "## outliers \n",
    "    38049 \t999999 \tBMW \t320 \tGasoline \tNaN \tUsed \t1999\n",
    "    16869 \t1111111 \tOpel \tKarl"
   ]
  },
  {
   "cell_type": "code",
   "execution_count": 29,
   "metadata": {},
   "outputs": [
    {
     "data": {
      "text/html": [
       "<div>\n",
       "<style scoped>\n",
       "    .dataframe tbody tr th:only-of-type {\n",
       "        vertical-align: middle;\n",
       "    }\n",
       "\n",
       "    .dataframe tbody tr th {\n",
       "        vertical-align: top;\n",
       "    }\n",
       "\n",
       "    .dataframe thead th {\n",
       "        text-align: right;\n",
       "    }\n",
       "</style>\n",
       "<table border=\"1\" class=\"dataframe\">\n",
       "  <thead>\n",
       "    <tr style=\"text-align: right;\">\n",
       "      <th></th>\n",
       "      <th>mileage</th>\n",
       "      <th>make</th>\n",
       "      <th>model</th>\n",
       "      <th>fuel</th>\n",
       "      <th>gear</th>\n",
       "      <th>offerType</th>\n",
       "      <th>price</th>\n",
       "      <th>hp</th>\n",
       "      <th>year</th>\n",
       "    </tr>\n",
       "  </thead>\n",
       "  <tbody>\n",
       "    <tr>\n",
       "      <th>4039</th>\n",
       "      <td>527205</td>\n",
       "      <td>Mercedes-Benz</td>\n",
       "      <td>C 220</td>\n",
       "      <td>Diesel</td>\n",
       "      <td>Automatic</td>\n",
       "      <td>Used</td>\n",
       "      <td>4899</td>\n",
       "      <td>170.0</td>\n",
       "      <td>2012</td>\n",
       "    </tr>\n",
       "    <tr>\n",
       "      <th>4529</th>\n",
       "      <td>514614</td>\n",
       "      <td>Mercedes-Benz</td>\n",
       "      <td>E 200</td>\n",
       "      <td>Diesel</td>\n",
       "      <td>Automatic</td>\n",
       "      <td>Used</td>\n",
       "      <td>7200</td>\n",
       "      <td>136.0</td>\n",
       "      <td>2015</td>\n",
       "    </tr>\n",
       "    <tr>\n",
       "      <th>12768</th>\n",
       "      <td>598744</td>\n",
       "      <td>Mercedes-Benz</td>\n",
       "      <td>Sprinter</td>\n",
       "      <td>Diesel</td>\n",
       "      <td>Manual</td>\n",
       "      <td>Used</td>\n",
       "      <td>13078</td>\n",
       "      <td>163.0</td>\n",
       "      <td>2015</td>\n",
       "    </tr>\n",
       "    <tr>\n",
       "      <th>13955</th>\n",
       "      <td>599900</td>\n",
       "      <td>Ford</td>\n",
       "      <td>Transit</td>\n",
       "      <td>Diesel</td>\n",
       "      <td>Manual</td>\n",
       "      <td>Used</td>\n",
       "      <td>5990</td>\n",
       "      <td>116.0</td>\n",
       "      <td>2012</td>\n",
       "    </tr>\n",
       "    <tr>\n",
       "      <th>16869</th>\n",
       "      <td>1111111</td>\n",
       "      <td>Opel</td>\n",
       "      <td>Karl</td>\n",
       "      <td>Gasoline</td>\n",
       "      <td>Manual</td>\n",
       "      <td>Demonstration</td>\n",
       "      <td>10490</td>\n",
       "      <td>73.0</td>\n",
       "      <td>2019</td>\n",
       "    </tr>\n",
       "    <tr>\n",
       "      <th>25438</th>\n",
       "      <td>620000</td>\n",
       "      <td>Mercedes-Benz</td>\n",
       "      <td>Vito</td>\n",
       "      <td>Diesel</td>\n",
       "      <td>Manual</td>\n",
       "      <td>Used</td>\n",
       "      <td>6500</td>\n",
       "      <td>163.0</td>\n",
       "      <td>2014</td>\n",
       "    </tr>\n",
       "    <tr>\n",
       "      <th>30529</th>\n",
       "      <td>550000</td>\n",
       "      <td>Iveco</td>\n",
       "      <td>Daily</td>\n",
       "      <td>Diesel</td>\n",
       "      <td>Manual</td>\n",
       "      <td>Used</td>\n",
       "      <td>8000</td>\n",
       "      <td>145.0</td>\n",
       "      <td>2014</td>\n",
       "    </tr>\n",
       "    <tr>\n",
       "      <th>34744</th>\n",
       "      <td>699000</td>\n",
       "      <td>Mercedes-Benz</td>\n",
       "      <td>Sprinter</td>\n",
       "      <td>Diesel</td>\n",
       "      <td>Manual</td>\n",
       "      <td>Used</td>\n",
       "      <td>3990</td>\n",
       "      <td>163.0</td>\n",
       "      <td>2011</td>\n",
       "    </tr>\n",
       "    <tr>\n",
       "      <th>38049</th>\n",
       "      <td>999999</td>\n",
       "      <td>BMW</td>\n",
       "      <td>320</td>\n",
       "      <td>Gasoline</td>\n",
       "      <td>NaN</td>\n",
       "      <td>Used</td>\n",
       "      <td>1999</td>\n",
       "      <td>NaN</td>\n",
       "      <td>2014</td>\n",
       "    </tr>\n",
       "    <tr>\n",
       "      <th>38445</th>\n",
       "      <td>530003</td>\n",
       "      <td>Citroen</td>\n",
       "      <td>C3</td>\n",
       "      <td>Gasoline</td>\n",
       "      <td>Manual</td>\n",
       "      <td>Used</td>\n",
       "      <td>5500</td>\n",
       "      <td>68.0</td>\n",
       "      <td>2015</td>\n",
       "    </tr>\n",
       "  </tbody>\n",
       "</table>\n",
       "</div>"
      ],
      "text/plain": [
       "       mileage           make     model      fuel       gear      offerType  \\\n",
       "4039    527205  Mercedes-Benz     C 220    Diesel  Automatic           Used   \n",
       "4529    514614  Mercedes-Benz     E 200    Diesel  Automatic           Used   \n",
       "12768   598744  Mercedes-Benz  Sprinter    Diesel     Manual           Used   \n",
       "13955   599900           Ford   Transit    Diesel     Manual           Used   \n",
       "16869  1111111           Opel      Karl  Gasoline     Manual  Demonstration   \n",
       "25438   620000  Mercedes-Benz      Vito    Diesel     Manual           Used   \n",
       "30529   550000          Iveco     Daily    Diesel     Manual           Used   \n",
       "34744   699000  Mercedes-Benz  Sprinter    Diesel     Manual           Used   \n",
       "38049   999999            BMW       320  Gasoline        NaN           Used   \n",
       "38445   530003        Citroen        C3  Gasoline     Manual           Used   \n",
       "\n",
       "       price     hp  year  \n",
       "4039    4899  170.0  2012  \n",
       "4529    7200  136.0  2015  \n",
       "12768  13078  163.0  2015  \n",
       "13955   5990  116.0  2012  \n",
       "16869  10490   73.0  2019  \n",
       "25438   6500  163.0  2014  \n",
       "30529   8000  145.0  2014  \n",
       "34744   3990  163.0  2011  \n",
       "38049   1999    NaN  2014  \n",
       "38445   5500   68.0  2015  "
      ]
     },
     "execution_count": 29,
     "metadata": {},
     "output_type": "execute_result"
    }
   ],
   "source": [
    "car[car.mileage>500000]"
   ]
  },
  {
   "cell_type": "code",
   "execution_count": 30,
   "metadata": {},
   "outputs": [
    {
     "name": "stderr",
     "output_type": "stream",
     "text": [
      "<ipython-input-30-8311f2efdde8>:1: UserWarning: Boolean Series key will be reindexed to match DataFrame index.\n",
      "  car.iloc[16869,0] = car[car.make=='Opel'][car.model=='Karl'][car.year==2019][car.price!=10490][car.offerType!='Pre-registered'].mileage.mean()\n",
      "<ipython-input-30-8311f2efdde8>:1: UserWarning: Boolean Series key will be reindexed to match DataFrame index.\n",
      "  car.iloc[16869,0] = car[car.make=='Opel'][car.model=='Karl'][car.year==2019][car.price!=10490][car.offerType!='Pre-registered'].mileage.mean()\n"
     ]
    }
   ],
   "source": [
    "car.iloc[16869,0] = car[car.make=='Opel'][car.model=='Karl'][car.year==2019][car.price!=10490][car.offerType!='Pre-registered'].mileage.mean()\n"
   ]
  },
  {
   "cell_type": "code",
   "execution_count": 31,
   "metadata": {},
   "outputs": [
    {
     "data": {
      "text/plain": [
       "mileage              18085\n",
       "make                  Opel\n",
       "model                 Karl\n",
       "fuel              Gasoline\n",
       "gear                Manual\n",
       "offerType    Demonstration\n",
       "price                10490\n",
       "hp                      73\n",
       "year                  2019\n",
       "Name: 16869, dtype: object"
      ]
     },
     "execution_count": 31,
     "metadata": {},
     "output_type": "execute_result"
    }
   ],
   "source": [
    "car.iloc[16869]"
   ]
  },
  {
   "cell_type": "code",
   "execution_count": 32,
   "metadata": {},
   "outputs": [
    {
     "name": "stderr",
     "output_type": "stream",
     "text": [
      "<ipython-input-32-b3aa428fe8b4>:1: UserWarning: Boolean Series key will be reindexed to match DataFrame index.\n",
      "  car.iloc[38049, 0] = car[car.make=='BMW'][car.model=='320'][car.year==2014][car.price!=1999].mileage.mean()\n",
      "<ipython-input-32-b3aa428fe8b4>:1: UserWarning: Boolean Series key will be reindexed to match DataFrame index.\n",
      "  car.iloc[38049, 0] = car[car.make=='BMW'][car.model=='320'][car.year==2014][car.price!=1999].mileage.mean()\n"
     ]
    }
   ],
   "source": [
    "car.iloc[38049, 0] = car[car.make=='BMW'][car.model=='320'][car.year==2014][car.price!=1999].mileage.mean()"
   ]
  },
  {
   "cell_type": "code",
   "execution_count": 33,
   "metadata": {},
   "outputs": [
    {
     "name": "stderr",
     "output_type": "stream",
     "text": [
      "<ipython-input-33-54da729069bd>:1: UserWarning: Boolean Series key will be reindexed to match DataFrame index.\n",
      "  car.loc[38049, 'price'] =  car[car.make=='BMW'][car.model=='320'][car.year==2014][car.price!=1999].price.mean()\n",
      "<ipython-input-33-54da729069bd>:1: UserWarning: Boolean Series key will be reindexed to match DataFrame index.\n",
      "  car.loc[38049, 'price'] =  car[car.make=='BMW'][car.model=='320'][car.year==2014][car.price!=1999].price.mean()\n"
     ]
    }
   ],
   "source": [
    "car.loc[38049, 'price'] =  car[car.make=='BMW'][car.model=='320'][car.year==2014][car.price!=1999].price.mean()"
   ]
  },
  {
   "cell_type": "code",
   "execution_count": 34,
   "metadata": {},
   "outputs": [],
   "source": [
    "car.loc[38049, 'gear'] = 'Automatic'\n",
    "car.loc[38049, 'hp'] = '184'"
   ]
  },
  {
   "cell_type": "code",
   "execution_count": 35,
   "metadata": {},
   "outputs": [
    {
     "data": {
      "text/plain": [
       "mileage         140405\n",
       "make               BMW\n",
       "model              320\n",
       "fuel          Gasoline\n",
       "gear         Automatic\n",
       "offerType         Used\n",
       "price          14730.9\n",
       "hp                 184\n",
       "year              2014\n",
       "Name: 38049, dtype: object"
      ]
     },
     "execution_count": 35,
     "metadata": {},
     "output_type": "execute_result"
    }
   ],
   "source": [
    "car.iloc[38049]"
   ]
  },
  {
   "cell_type": "code",
   "execution_count": 36,
   "metadata": {},
   "outputs": [
    {
     "data": {
      "text/html": [
       "<div>\n",
       "<style scoped>\n",
       "    .dataframe tbody tr th:only-of-type {\n",
       "        vertical-align: middle;\n",
       "    }\n",
       "\n",
       "    .dataframe tbody tr th {\n",
       "        vertical-align: top;\n",
       "    }\n",
       "\n",
       "    .dataframe thead th {\n",
       "        text-align: right;\n",
       "    }\n",
       "</style>\n",
       "<table border=\"1\" class=\"dataframe\">\n",
       "  <thead>\n",
       "    <tr style=\"text-align: right;\">\n",
       "      <th></th>\n",
       "      <th>mileage</th>\n",
       "      <th>make</th>\n",
       "      <th>model</th>\n",
       "      <th>fuel</th>\n",
       "      <th>gear</th>\n",
       "      <th>offerType</th>\n",
       "      <th>price</th>\n",
       "      <th>hp</th>\n",
       "      <th>year</th>\n",
       "    </tr>\n",
       "  </thead>\n",
       "  <tbody>\n",
       "    <tr>\n",
       "      <th>365</th>\n",
       "      <td>3500.0</td>\n",
       "      <td>Others</td>\n",
       "      <td>NaN</td>\n",
       "      <td>Electric</td>\n",
       "      <td>Manual</td>\n",
       "      <td>Used</td>\n",
       "      <td>5500.0</td>\n",
       "      <td>38</td>\n",
       "      <td>2018</td>\n",
       "    </tr>\n",
       "    <tr>\n",
       "      <th>2001</th>\n",
       "      <td>2900.0</td>\n",
       "      <td>Others</td>\n",
       "      <td>NaN</td>\n",
       "      <td>Electric</td>\n",
       "      <td>Automatic</td>\n",
       "      <td>Used</td>\n",
       "      <td>7900.0</td>\n",
       "      <td>5</td>\n",
       "      <td>2018</td>\n",
       "    </tr>\n",
       "    <tr>\n",
       "      <th>9432</th>\n",
       "      <td>50.0</td>\n",
       "      <td>Others</td>\n",
       "      <td>NaN</td>\n",
       "      <td>Gasoline</td>\n",
       "      <td>Automatic</td>\n",
       "      <td>Used</td>\n",
       "      <td>14990.0</td>\n",
       "      <td>111</td>\n",
       "      <td>2020</td>\n",
       "    </tr>\n",
       "    <tr>\n",
       "      <th>12019</th>\n",
       "      <td>1820.0</td>\n",
       "      <td>Others</td>\n",
       "      <td>NaN</td>\n",
       "      <td>Diesel</td>\n",
       "      <td>NaN</td>\n",
       "      <td>Used</td>\n",
       "      <td>15500.0</td>\n",
       "      <td>18</td>\n",
       "      <td>2011</td>\n",
       "    </tr>\n",
       "    <tr>\n",
       "      <th>13030</th>\n",
       "      <td>800.0</td>\n",
       "      <td>Others</td>\n",
       "      <td>NaN</td>\n",
       "      <td>Others</td>\n",
       "      <td>NaN</td>\n",
       "      <td>Used</td>\n",
       "      <td>2450.0</td>\n",
       "      <td>1</td>\n",
       "      <td>2019</td>\n",
       "    </tr>\n",
       "    <tr>\n",
       "      <th>17752</th>\n",
       "      <td>150.0</td>\n",
       "      <td>Others</td>\n",
       "      <td>NaN</td>\n",
       "      <td>Electric</td>\n",
       "      <td>Automatic</td>\n",
       "      <td>Employee's car</td>\n",
       "      <td>4490.0</td>\n",
       "      <td>NaN</td>\n",
       "      <td>2020</td>\n",
       "    </tr>\n",
       "    <tr>\n",
       "      <th>18642</th>\n",
       "      <td>1.0</td>\n",
       "      <td>Others</td>\n",
       "      <td>NaN</td>\n",
       "      <td>Gasoline</td>\n",
       "      <td>Manual</td>\n",
       "      <td>Pre-registered</td>\n",
       "      <td>23990.0</td>\n",
       "      <td>150</td>\n",
       "      <td>2021</td>\n",
       "    </tr>\n",
       "    <tr>\n",
       "      <th>24366</th>\n",
       "      <td>1.0</td>\n",
       "      <td>Others</td>\n",
       "      <td>Landwind</td>\n",
       "      <td>Gasoline</td>\n",
       "      <td>Manual</td>\n",
       "      <td>Used</td>\n",
       "      <td>1850.0</td>\n",
       "      <td>97</td>\n",
       "      <td>2012</td>\n",
       "    </tr>\n",
       "    <tr>\n",
       "      <th>25810</th>\n",
       "      <td>1000.0</td>\n",
       "      <td>Others</td>\n",
       "      <td>NaN</td>\n",
       "      <td>Electric</td>\n",
       "      <td>Automatic</td>\n",
       "      <td>Used</td>\n",
       "      <td>3580.0</td>\n",
       "      <td>5</td>\n",
       "      <td>2012</td>\n",
       "    </tr>\n",
       "    <tr>\n",
       "      <th>25857</th>\n",
       "      <td>31000.0</td>\n",
       "      <td>Others</td>\n",
       "      <td>NaN</td>\n",
       "      <td>Gasoline</td>\n",
       "      <td>Manual</td>\n",
       "      <td>Used</td>\n",
       "      <td>3850.0</td>\n",
       "      <td>79</td>\n",
       "      <td>2014</td>\n",
       "    </tr>\n",
       "    <tr>\n",
       "      <th>25878</th>\n",
       "      <td>2000.0</td>\n",
       "      <td>Others</td>\n",
       "      <td>NaN</td>\n",
       "      <td>Others</td>\n",
       "      <td>NaN</td>\n",
       "      <td>Used</td>\n",
       "      <td>10999.0</td>\n",
       "      <td>1</td>\n",
       "      <td>2015</td>\n",
       "    </tr>\n",
       "    <tr>\n",
       "      <th>26088</th>\n",
       "      <td>2000.0</td>\n",
       "      <td>Others</td>\n",
       "      <td>NaN</td>\n",
       "      <td>Others</td>\n",
       "      <td>NaN</td>\n",
       "      <td>Used</td>\n",
       "      <td>10999.0</td>\n",
       "      <td>1</td>\n",
       "      <td>2015</td>\n",
       "    </tr>\n",
       "    <tr>\n",
       "      <th>34621</th>\n",
       "      <td>30.0</td>\n",
       "      <td>Others</td>\n",
       "      <td>NaN</td>\n",
       "      <td>Electric</td>\n",
       "      <td>NaN</td>\n",
       "      <td>Used</td>\n",
       "      <td>1950.0</td>\n",
       "      <td>7</td>\n",
       "      <td>2011</td>\n",
       "    </tr>\n",
       "    <tr>\n",
       "      <th>36085</th>\n",
       "      <td>104816.0</td>\n",
       "      <td>Others</td>\n",
       "      <td>NaN</td>\n",
       "      <td>Gasoline</td>\n",
       "      <td>Manual</td>\n",
       "      <td>Used</td>\n",
       "      <td>5890.0</td>\n",
       "      <td>75</td>\n",
       "      <td>2012</td>\n",
       "    </tr>\n",
       "    <tr>\n",
       "      <th>36089</th>\n",
       "      <td>66014.0</td>\n",
       "      <td>Others</td>\n",
       "      <td>NaN</td>\n",
       "      <td>Gasoline</td>\n",
       "      <td>Manual</td>\n",
       "      <td>Used</td>\n",
       "      <td>5950.0</td>\n",
       "      <td>75</td>\n",
       "      <td>2012</td>\n",
       "    </tr>\n",
       "    <tr>\n",
       "      <th>40641</th>\n",
       "      <td>74734.0</td>\n",
       "      <td>Others</td>\n",
       "      <td>NaN</td>\n",
       "      <td>CNG</td>\n",
       "      <td>Manual</td>\n",
       "      <td>Used</td>\n",
       "      <td>7450.0</td>\n",
       "      <td>68</td>\n",
       "      <td>2016</td>\n",
       "    </tr>\n",
       "    <tr>\n",
       "      <th>41703</th>\n",
       "      <td>2250.0</td>\n",
       "      <td>Others</td>\n",
       "      <td>NaN</td>\n",
       "      <td>Electric</td>\n",
       "      <td>Automatic</td>\n",
       "      <td>Used</td>\n",
       "      <td>10591.0</td>\n",
       "      <td>52</td>\n",
       "      <td>2017</td>\n",
       "    </tr>\n",
       "    <tr>\n",
       "      <th>41706</th>\n",
       "      <td>1100.0</td>\n",
       "      <td>Others</td>\n",
       "      <td>NaN</td>\n",
       "      <td>Electric</td>\n",
       "      <td>Automatic</td>\n",
       "      <td>Used</td>\n",
       "      <td>11781.0</td>\n",
       "      <td>52</td>\n",
       "      <td>2017</td>\n",
       "    </tr>\n",
       "    <tr>\n",
       "      <th>42111</th>\n",
       "      <td>20.0</td>\n",
       "      <td>Others</td>\n",
       "      <td>NaN</td>\n",
       "      <td>Electric</td>\n",
       "      <td>NaN</td>\n",
       "      <td>Used</td>\n",
       "      <td>4850.0</td>\n",
       "      <td>NaN</td>\n",
       "      <td>2018</td>\n",
       "    </tr>\n",
       "    <tr>\n",
       "      <th>43263</th>\n",
       "      <td>0.0</td>\n",
       "      <td>Others</td>\n",
       "      <td>NaN</td>\n",
       "      <td>Electric</td>\n",
       "      <td>Automatic</td>\n",
       "      <td>Used</td>\n",
       "      <td>5999.0</td>\n",
       "      <td>3</td>\n",
       "      <td>2019</td>\n",
       "    </tr>\n",
       "    <tr>\n",
       "      <th>43361</th>\n",
       "      <td>40.0</td>\n",
       "      <td>Others</td>\n",
       "      <td>NaN</td>\n",
       "      <td>Electric</td>\n",
       "      <td>Automatic</td>\n",
       "      <td>Used</td>\n",
       "      <td>9870.0</td>\n",
       "      <td>52</td>\n",
       "      <td>2019</td>\n",
       "    </tr>\n",
       "    <tr>\n",
       "      <th>43610</th>\n",
       "      <td>700.0</td>\n",
       "      <td>Others</td>\n",
       "      <td>NaN</td>\n",
       "      <td>Electric</td>\n",
       "      <td>NaN</td>\n",
       "      <td>Used</td>\n",
       "      <td>6300.0</td>\n",
       "      <td>5</td>\n",
       "      <td>2019</td>\n",
       "    </tr>\n",
       "    <tr>\n",
       "      <th>43612</th>\n",
       "      <td>300.0</td>\n",
       "      <td>Others</td>\n",
       "      <td>NaN</td>\n",
       "      <td>Electric</td>\n",
       "      <td>Automatic</td>\n",
       "      <td>Used</td>\n",
       "      <td>7000.0</td>\n",
       "      <td>5</td>\n",
       "      <td>2019</td>\n",
       "    </tr>\n",
       "    <tr>\n",
       "      <th>46074</th>\n",
       "      <td>1.0</td>\n",
       "      <td>Others</td>\n",
       "      <td>NaN</td>\n",
       "      <td>Gasoline</td>\n",
       "      <td>Manual</td>\n",
       "      <td>Pre-registered</td>\n",
       "      <td>23990.0</td>\n",
       "      <td>150</td>\n",
       "      <td>2021</td>\n",
       "    </tr>\n",
       "    <tr>\n",
       "      <th>46102</th>\n",
       "      <td>1.0</td>\n",
       "      <td>Others</td>\n",
       "      <td>NaN</td>\n",
       "      <td>Gasoline</td>\n",
       "      <td>Manual</td>\n",
       "      <td>Pre-registered</td>\n",
       "      <td>23990.0</td>\n",
       "      <td>150</td>\n",
       "      <td>2021</td>\n",
       "    </tr>\n",
       "  </tbody>\n",
       "</table>\n",
       "</div>"
      ],
      "text/plain": [
       "        mileage    make     model      fuel       gear       offerType  \\\n",
       "365      3500.0  Others       NaN  Electric     Manual            Used   \n",
       "2001     2900.0  Others       NaN  Electric  Automatic            Used   \n",
       "9432       50.0  Others       NaN  Gasoline  Automatic            Used   \n",
       "12019    1820.0  Others       NaN    Diesel        NaN            Used   \n",
       "13030     800.0  Others       NaN    Others        NaN            Used   \n",
       "17752     150.0  Others       NaN  Electric  Automatic  Employee's car   \n",
       "18642       1.0  Others       NaN  Gasoline     Manual  Pre-registered   \n",
       "24366       1.0  Others  Landwind  Gasoline     Manual            Used   \n",
       "25810    1000.0  Others       NaN  Electric  Automatic            Used   \n",
       "25857   31000.0  Others       NaN  Gasoline     Manual            Used   \n",
       "25878    2000.0  Others       NaN    Others        NaN            Used   \n",
       "26088    2000.0  Others       NaN    Others        NaN            Used   \n",
       "34621      30.0  Others       NaN  Electric        NaN            Used   \n",
       "36085  104816.0  Others       NaN  Gasoline     Manual            Used   \n",
       "36089   66014.0  Others       NaN  Gasoline     Manual            Used   \n",
       "40641   74734.0  Others       NaN       CNG     Manual            Used   \n",
       "41703    2250.0  Others       NaN  Electric  Automatic            Used   \n",
       "41706    1100.0  Others       NaN  Electric  Automatic            Used   \n",
       "42111      20.0  Others       NaN  Electric        NaN            Used   \n",
       "43263       0.0  Others       NaN  Electric  Automatic            Used   \n",
       "43361      40.0  Others       NaN  Electric  Automatic            Used   \n",
       "43610     700.0  Others       NaN  Electric        NaN            Used   \n",
       "43612     300.0  Others       NaN  Electric  Automatic            Used   \n",
       "46074       1.0  Others       NaN  Gasoline     Manual  Pre-registered   \n",
       "46102       1.0  Others       NaN  Gasoline     Manual  Pre-registered   \n",
       "\n",
       "         price   hp  year  \n",
       "365     5500.0   38  2018  \n",
       "2001    7900.0    5  2018  \n",
       "9432   14990.0  111  2020  \n",
       "12019  15500.0   18  2011  \n",
       "13030   2450.0    1  2019  \n",
       "17752   4490.0  NaN  2020  \n",
       "18642  23990.0  150  2021  \n",
       "24366   1850.0   97  2012  \n",
       "25810   3580.0    5  2012  \n",
       "25857   3850.0   79  2014  \n",
       "25878  10999.0    1  2015  \n",
       "26088  10999.0    1  2015  \n",
       "34621   1950.0    7  2011  \n",
       "36085   5890.0   75  2012  \n",
       "36089   5950.0   75  2012  \n",
       "40641   7450.0   68  2016  \n",
       "41703  10591.0   52  2017  \n",
       "41706  11781.0   52  2017  \n",
       "42111   4850.0  NaN  2018  \n",
       "43263   5999.0    3  2019  \n",
       "43361   9870.0   52  2019  \n",
       "43610   6300.0    5  2019  \n",
       "43612   7000.0    5  2019  \n",
       "46074  23990.0  150  2021  \n",
       "46102  23990.0  150  2021  "
      ]
     },
     "execution_count": 36,
     "metadata": {},
     "output_type": "execute_result"
    }
   ],
   "source": [
    "car[car.make=='Others']"
   ]
  },
  {
   "cell_type": "code",
   "execution_count": 37,
   "metadata": {
    "scrolled": true
   },
   "outputs": [
    {
     "data": {
      "text/html": [
       "<div>\n",
       "<style scoped>\n",
       "    .dataframe tbody tr th:only-of-type {\n",
       "        vertical-align: middle;\n",
       "    }\n",
       "\n",
       "    .dataframe tbody tr th {\n",
       "        vertical-align: top;\n",
       "    }\n",
       "\n",
       "    .dataframe thead th {\n",
       "        text-align: right;\n",
       "    }\n",
       "</style>\n",
       "<table border=\"1\" class=\"dataframe\">\n",
       "  <thead>\n",
       "    <tr style=\"text-align: right;\">\n",
       "      <th></th>\n",
       "      <th>mileage</th>\n",
       "      <th>make</th>\n",
       "      <th>model</th>\n",
       "      <th>fuel</th>\n",
       "      <th>gear</th>\n",
       "      <th>offerType</th>\n",
       "      <th>price</th>\n",
       "      <th>hp</th>\n",
       "      <th>year</th>\n",
       "    </tr>\n",
       "  </thead>\n",
       "  <tbody>\n",
       "    <tr>\n",
       "      <th>482</th>\n",
       "      <td>36018.0</td>\n",
       "      <td>Mitsubishi</td>\n",
       "      <td>Space Star</td>\n",
       "      <td>Gasoline</td>\n",
       "      <td>Manual</td>\n",
       "      <td>Used</td>\n",
       "      <td>6222.0</td>\n",
       "      <td>NaN</td>\n",
       "      <td>2015</td>\n",
       "    </tr>\n",
       "    <tr>\n",
       "      <th>2368</th>\n",
       "      <td>36018.0</td>\n",
       "      <td>Mitsubishi</td>\n",
       "      <td>Space Star</td>\n",
       "      <td>Gasoline</td>\n",
       "      <td>Manual</td>\n",
       "      <td>Used</td>\n",
       "      <td>6222.0</td>\n",
       "      <td>NaN</td>\n",
       "      <td>2015</td>\n",
       "    </tr>\n",
       "    <tr>\n",
       "      <th>5552</th>\n",
       "      <td>129375.0</td>\n",
       "      <td>Peugeot</td>\n",
       "      <td>207</td>\n",
       "      <td>Gasoline</td>\n",
       "      <td>Manual</td>\n",
       "      <td>Used</td>\n",
       "      <td>5950.0</td>\n",
       "      <td>NaN</td>\n",
       "      <td>2013</td>\n",
       "    </tr>\n",
       "    <tr>\n",
       "      <th>5760</th>\n",
       "      <td>129375.0</td>\n",
       "      <td>Peugeot</td>\n",
       "      <td>207</td>\n",
       "      <td>Gasoline</td>\n",
       "      <td>Manual</td>\n",
       "      <td>Used</td>\n",
       "      <td>5950.0</td>\n",
       "      <td>NaN</td>\n",
       "      <td>2013</td>\n",
       "    </tr>\n",
       "    <tr>\n",
       "      <th>8892</th>\n",
       "      <td>71113.0</td>\n",
       "      <td>Opel</td>\n",
       "      <td>Corsa</td>\n",
       "      <td>Gasoline</td>\n",
       "      <td>Manual</td>\n",
       "      <td>Used</td>\n",
       "      <td>5666.0</td>\n",
       "      <td>NaN</td>\n",
       "      <td>2012</td>\n",
       "    </tr>\n",
       "    <tr>\n",
       "      <th>9264</th>\n",
       "      <td>5.0</td>\n",
       "      <td>Aixam</td>\n",
       "      <td>NaN</td>\n",
       "      <td>Electric</td>\n",
       "      <td>Automatic</td>\n",
       "      <td>Pre-registered</td>\n",
       "      <td>22180.0</td>\n",
       "      <td>NaN</td>\n",
       "      <td>2021</td>\n",
       "    </tr>\n",
       "    <tr>\n",
       "      <th>10575</th>\n",
       "      <td>72109.0</td>\n",
       "      <td>Ford</td>\n",
       "      <td>Fiesta</td>\n",
       "      <td>Gasoline</td>\n",
       "      <td>Manual</td>\n",
       "      <td>Used</td>\n",
       "      <td>6222.0</td>\n",
       "      <td>NaN</td>\n",
       "      <td>2013</td>\n",
       "    </tr>\n",
       "    <tr>\n",
       "      <th>10779</th>\n",
       "      <td>71113.0</td>\n",
       "      <td>Opel</td>\n",
       "      <td>Corsa</td>\n",
       "      <td>Gasoline</td>\n",
       "      <td>Manual</td>\n",
       "      <td>Used</td>\n",
       "      <td>5666.0</td>\n",
       "      <td>NaN</td>\n",
       "      <td>2012</td>\n",
       "    </tr>\n",
       "    <tr>\n",
       "      <th>10782</th>\n",
       "      <td>72109.0</td>\n",
       "      <td>Ford</td>\n",
       "      <td>Fiesta</td>\n",
       "      <td>Gasoline</td>\n",
       "      <td>Manual</td>\n",
       "      <td>Used</td>\n",
       "      <td>6222.0</td>\n",
       "      <td>NaN</td>\n",
       "      <td>2013</td>\n",
       "    </tr>\n",
       "    <tr>\n",
       "      <th>12000</th>\n",
       "      <td>139.0</td>\n",
       "      <td>Renault</td>\n",
       "      <td>Twingo</td>\n",
       "      <td>Electric</td>\n",
       "      <td>Automatic</td>\n",
       "      <td>Demonstration</td>\n",
       "      <td>15990.0</td>\n",
       "      <td>NaN</td>\n",
       "      <td>2021</td>\n",
       "    </tr>\n",
       "    <tr>\n",
       "      <th>12549</th>\n",
       "      <td>46587.0</td>\n",
       "      <td>Opel</td>\n",
       "      <td>Corsa</td>\n",
       "      <td>Gasoline</td>\n",
       "      <td>Manual</td>\n",
       "      <td>Used</td>\n",
       "      <td>7555.0</td>\n",
       "      <td>NaN</td>\n",
       "      <td>2015</td>\n",
       "    </tr>\n",
       "    <tr>\n",
       "      <th>12858</th>\n",
       "      <td>1500.0</td>\n",
       "      <td>Citroen</td>\n",
       "      <td>C3</td>\n",
       "      <td>Gasoline</td>\n",
       "      <td>Manual</td>\n",
       "      <td>Demonstration</td>\n",
       "      <td>15750.0</td>\n",
       "      <td>NaN</td>\n",
       "      <td>2020</td>\n",
       "    </tr>\n",
       "    <tr>\n",
       "      <th>14010</th>\n",
       "      <td>46587.0</td>\n",
       "      <td>Opel</td>\n",
       "      <td>Corsa</td>\n",
       "      <td>Gasoline</td>\n",
       "      <td>Manual</td>\n",
       "      <td>Used</td>\n",
       "      <td>7555.0</td>\n",
       "      <td>NaN</td>\n",
       "      <td>2015</td>\n",
       "    </tr>\n",
       "    <tr>\n",
       "      <th>17752</th>\n",
       "      <td>150.0</td>\n",
       "      <td>Others</td>\n",
       "      <td>NaN</td>\n",
       "      <td>Electric</td>\n",
       "      <td>Automatic</td>\n",
       "      <td>Employee's car</td>\n",
       "      <td>4490.0</td>\n",
       "      <td>NaN</td>\n",
       "      <td>2020</td>\n",
       "    </tr>\n",
       "    <tr>\n",
       "      <th>24953</th>\n",
       "      <td>0.0</td>\n",
       "      <td>Fiat</td>\n",
       "      <td>500</td>\n",
       "      <td>Electric</td>\n",
       "      <td>Automatic</td>\n",
       "      <td>Demonstration</td>\n",
       "      <td>32990.0</td>\n",
       "      <td>NaN</td>\n",
       "      <td>2021</td>\n",
       "    </tr>\n",
       "    <tr>\n",
       "      <th>26612</th>\n",
       "      <td>7000.0</td>\n",
       "      <td>Hyundai</td>\n",
       "      <td>Kona</td>\n",
       "      <td>Electric</td>\n",
       "      <td>Automatic</td>\n",
       "      <td>Used</td>\n",
       "      <td>30490.0</td>\n",
       "      <td>NaN</td>\n",
       "      <td>2019</td>\n",
       "    </tr>\n",
       "    <tr>\n",
       "      <th>27469</th>\n",
       "      <td>3000.0</td>\n",
       "      <td>smart</td>\n",
       "      <td>forTwo</td>\n",
       "      <td>Electric</td>\n",
       "      <td>Automatic</td>\n",
       "      <td>Demonstration</td>\n",
       "      <td>18890.0</td>\n",
       "      <td>NaN</td>\n",
       "      <td>2021</td>\n",
       "    </tr>\n",
       "    <tr>\n",
       "      <th>27659</th>\n",
       "      <td>12128.0</td>\n",
       "      <td>Opel</td>\n",
       "      <td>Insignia</td>\n",
       "      <td>Gasoline</td>\n",
       "      <td>Manual</td>\n",
       "      <td>Used</td>\n",
       "      <td>20850.0</td>\n",
       "      <td>NaN</td>\n",
       "      <td>2019</td>\n",
       "    </tr>\n",
       "    <tr>\n",
       "      <th>30919</th>\n",
       "      <td>351000.0</td>\n",
       "      <td>Dacia</td>\n",
       "      <td>Duster</td>\n",
       "      <td>Gasoline</td>\n",
       "      <td>Manual</td>\n",
       "      <td>Used</td>\n",
       "      <td>4390.0</td>\n",
       "      <td>NaN</td>\n",
       "      <td>2012</td>\n",
       "    </tr>\n",
       "    <tr>\n",
       "      <th>30920</th>\n",
       "      <td>351000.0</td>\n",
       "      <td>Dacia</td>\n",
       "      <td>Duster</td>\n",
       "      <td>LPG</td>\n",
       "      <td>Manual</td>\n",
       "      <td>Used</td>\n",
       "      <td>4390.0</td>\n",
       "      <td>NaN</td>\n",
       "      <td>2012</td>\n",
       "    </tr>\n",
       "    <tr>\n",
       "      <th>31190</th>\n",
       "      <td>40357.0</td>\n",
       "      <td>Mitsubishi</td>\n",
       "      <td>Space Star</td>\n",
       "      <td>Gasoline</td>\n",
       "      <td>Manual</td>\n",
       "      <td>Used</td>\n",
       "      <td>5444.0</td>\n",
       "      <td>NaN</td>\n",
       "      <td>2015</td>\n",
       "    </tr>\n",
       "    <tr>\n",
       "      <th>34328</th>\n",
       "      <td>78637.0</td>\n",
       "      <td>Skoda</td>\n",
       "      <td>Fabia</td>\n",
       "      <td>Gasoline</td>\n",
       "      <td>Manual</td>\n",
       "      <td>Used</td>\n",
       "      <td>5999.0</td>\n",
       "      <td>NaN</td>\n",
       "      <td>2011</td>\n",
       "    </tr>\n",
       "    <tr>\n",
       "      <th>39762</th>\n",
       "      <td>2000.0</td>\n",
       "      <td>Caravans-Wohnm</td>\n",
       "      <td>Adria</td>\n",
       "      <td>Diesel</td>\n",
       "      <td>NaN</td>\n",
       "      <td>Used</td>\n",
       "      <td>24500.0</td>\n",
       "      <td>NaN</td>\n",
       "      <td>2016</td>\n",
       "    </tr>\n",
       "    <tr>\n",
       "      <th>42111</th>\n",
       "      <td>20.0</td>\n",
       "      <td>Others</td>\n",
       "      <td>NaN</td>\n",
       "      <td>Electric</td>\n",
       "      <td>NaN</td>\n",
       "      <td>Used</td>\n",
       "      <td>4850.0</td>\n",
       "      <td>NaN</td>\n",
       "      <td>2018</td>\n",
       "    </tr>\n",
       "    <tr>\n",
       "      <th>44772</th>\n",
       "      <td>5729.0</td>\n",
       "      <td>Mercedes-Benz</td>\n",
       "      <td>C 200</td>\n",
       "      <td>Gasoline</td>\n",
       "      <td>Automatic</td>\n",
       "      <td>Employee's car</td>\n",
       "      <td>36870.0</td>\n",
       "      <td>NaN</td>\n",
       "      <td>2020</td>\n",
       "    </tr>\n",
       "    <tr>\n",
       "      <th>45922</th>\n",
       "      <td>10.0</td>\n",
       "      <td>Fiat</td>\n",
       "      <td>500</td>\n",
       "      <td>Electric</td>\n",
       "      <td>Automatic</td>\n",
       "      <td>Demonstration</td>\n",
       "      <td>33690.0</td>\n",
       "      <td>NaN</td>\n",
       "      <td>2021</td>\n",
       "    </tr>\n",
       "    <tr>\n",
       "      <th>45923</th>\n",
       "      <td>10.0</td>\n",
       "      <td>Fiat</td>\n",
       "      <td>500C</td>\n",
       "      <td>Electric</td>\n",
       "      <td>Automatic</td>\n",
       "      <td>Demonstration</td>\n",
       "      <td>36890.0</td>\n",
       "      <td>NaN</td>\n",
       "      <td>2021</td>\n",
       "    </tr>\n",
       "    <tr>\n",
       "      <th>45924</th>\n",
       "      <td>363.0</td>\n",
       "      <td>Fiat</td>\n",
       "      <td>500C</td>\n",
       "      <td>Electric</td>\n",
       "      <td>Automatic</td>\n",
       "      <td>Demonstration</td>\n",
       "      <td>36890.0</td>\n",
       "      <td>NaN</td>\n",
       "      <td>2021</td>\n",
       "    </tr>\n",
       "  </tbody>\n",
       "</table>\n",
       "</div>"
      ],
      "text/plain": [
       "        mileage            make       model      fuel       gear  \\\n",
       "482     36018.0      Mitsubishi  Space Star  Gasoline     Manual   \n",
       "2368    36018.0      Mitsubishi  Space Star  Gasoline     Manual   \n",
       "5552   129375.0         Peugeot         207  Gasoline     Manual   \n",
       "5760   129375.0         Peugeot         207  Gasoline     Manual   \n",
       "8892    71113.0            Opel       Corsa  Gasoline     Manual   \n",
       "9264        5.0           Aixam         NaN  Electric  Automatic   \n",
       "10575   72109.0            Ford      Fiesta  Gasoline     Manual   \n",
       "10779   71113.0            Opel       Corsa  Gasoline     Manual   \n",
       "10782   72109.0            Ford      Fiesta  Gasoline     Manual   \n",
       "12000     139.0         Renault      Twingo  Electric  Automatic   \n",
       "12549   46587.0            Opel       Corsa  Gasoline     Manual   \n",
       "12858    1500.0         Citroen          C3  Gasoline     Manual   \n",
       "14010   46587.0            Opel       Corsa  Gasoline     Manual   \n",
       "17752     150.0          Others         NaN  Electric  Automatic   \n",
       "24953       0.0            Fiat         500  Electric  Automatic   \n",
       "26612    7000.0         Hyundai        Kona  Electric  Automatic   \n",
       "27469    3000.0           smart      forTwo  Electric  Automatic   \n",
       "27659   12128.0            Opel    Insignia  Gasoline     Manual   \n",
       "30919  351000.0           Dacia      Duster  Gasoline     Manual   \n",
       "30920  351000.0           Dacia      Duster       LPG     Manual   \n",
       "31190   40357.0      Mitsubishi  Space Star  Gasoline     Manual   \n",
       "34328   78637.0           Skoda       Fabia  Gasoline     Manual   \n",
       "39762    2000.0  Caravans-Wohnm       Adria    Diesel        NaN   \n",
       "42111      20.0          Others         NaN  Electric        NaN   \n",
       "44772    5729.0   Mercedes-Benz       C 200  Gasoline  Automatic   \n",
       "45922      10.0            Fiat         500  Electric  Automatic   \n",
       "45923      10.0            Fiat        500C  Electric  Automatic   \n",
       "45924     363.0            Fiat        500C  Electric  Automatic   \n",
       "\n",
       "            offerType    price   hp  year  \n",
       "482              Used   6222.0  NaN  2015  \n",
       "2368             Used   6222.0  NaN  2015  \n",
       "5552             Used   5950.0  NaN  2013  \n",
       "5760             Used   5950.0  NaN  2013  \n",
       "8892             Used   5666.0  NaN  2012  \n",
       "9264   Pre-registered  22180.0  NaN  2021  \n",
       "10575            Used   6222.0  NaN  2013  \n",
       "10779            Used   5666.0  NaN  2012  \n",
       "10782            Used   6222.0  NaN  2013  \n",
       "12000   Demonstration  15990.0  NaN  2021  \n",
       "12549            Used   7555.0  NaN  2015  \n",
       "12858   Demonstration  15750.0  NaN  2020  \n",
       "14010            Used   7555.0  NaN  2015  \n",
       "17752  Employee's car   4490.0  NaN  2020  \n",
       "24953   Demonstration  32990.0  NaN  2021  \n",
       "26612            Used  30490.0  NaN  2019  \n",
       "27469   Demonstration  18890.0  NaN  2021  \n",
       "27659            Used  20850.0  NaN  2019  \n",
       "30919            Used   4390.0  NaN  2012  \n",
       "30920            Used   4390.0  NaN  2012  \n",
       "31190            Used   5444.0  NaN  2015  \n",
       "34328            Used   5999.0  NaN  2011  \n",
       "39762            Used  24500.0  NaN  2016  \n",
       "42111            Used   4850.0  NaN  2018  \n",
       "44772  Employee's car  36870.0  NaN  2020  \n",
       "45922   Demonstration  33690.0  NaN  2021  \n",
       "45923   Demonstration  36890.0  NaN  2021  \n",
       "45924   Demonstration  36890.0  NaN  2021  "
      ]
     },
     "execution_count": 37,
     "metadata": {},
     "output_type": "execute_result"
    }
   ],
   "source": [
    "car[car.hp.isna()==True]"
   ]
  },
  {
   "cell_type": "code",
   "execution_count": 38,
   "metadata": {
    "scrolled": true
   },
   "outputs": [
    {
     "name": "stderr",
     "output_type": "stream",
     "text": [
      "<ipython-input-38-d4bc1d29be44>:1: UserWarning: Boolean Series key will be reindexed to match DataFrame index.\n",
      "  car[car.hp.isna()==True][car.make=='Mitsubishi'][car.model=='Space Star']\n"
     ]
    },
    {
     "data": {
      "text/html": [
       "<div>\n",
       "<style scoped>\n",
       "    .dataframe tbody tr th:only-of-type {\n",
       "        vertical-align: middle;\n",
       "    }\n",
       "\n",
       "    .dataframe tbody tr th {\n",
       "        vertical-align: top;\n",
       "    }\n",
       "\n",
       "    .dataframe thead th {\n",
       "        text-align: right;\n",
       "    }\n",
       "</style>\n",
       "<table border=\"1\" class=\"dataframe\">\n",
       "  <thead>\n",
       "    <tr style=\"text-align: right;\">\n",
       "      <th></th>\n",
       "      <th>mileage</th>\n",
       "      <th>make</th>\n",
       "      <th>model</th>\n",
       "      <th>fuel</th>\n",
       "      <th>gear</th>\n",
       "      <th>offerType</th>\n",
       "      <th>price</th>\n",
       "      <th>hp</th>\n",
       "      <th>year</th>\n",
       "    </tr>\n",
       "  </thead>\n",
       "  <tbody>\n",
       "    <tr>\n",
       "      <th>482</th>\n",
       "      <td>36018.0</td>\n",
       "      <td>Mitsubishi</td>\n",
       "      <td>Space Star</td>\n",
       "      <td>Gasoline</td>\n",
       "      <td>Manual</td>\n",
       "      <td>Used</td>\n",
       "      <td>6222.0</td>\n",
       "      <td>NaN</td>\n",
       "      <td>2015</td>\n",
       "    </tr>\n",
       "    <tr>\n",
       "      <th>2368</th>\n",
       "      <td>36018.0</td>\n",
       "      <td>Mitsubishi</td>\n",
       "      <td>Space Star</td>\n",
       "      <td>Gasoline</td>\n",
       "      <td>Manual</td>\n",
       "      <td>Used</td>\n",
       "      <td>6222.0</td>\n",
       "      <td>NaN</td>\n",
       "      <td>2015</td>\n",
       "    </tr>\n",
       "    <tr>\n",
       "      <th>31190</th>\n",
       "      <td>40357.0</td>\n",
       "      <td>Mitsubishi</td>\n",
       "      <td>Space Star</td>\n",
       "      <td>Gasoline</td>\n",
       "      <td>Manual</td>\n",
       "      <td>Used</td>\n",
       "      <td>5444.0</td>\n",
       "      <td>NaN</td>\n",
       "      <td>2015</td>\n",
       "    </tr>\n",
       "  </tbody>\n",
       "</table>\n",
       "</div>"
      ],
      "text/plain": [
       "       mileage        make       model      fuel    gear offerType   price  \\\n",
       "482    36018.0  Mitsubishi  Space Star  Gasoline  Manual      Used  6222.0   \n",
       "2368   36018.0  Mitsubishi  Space Star  Gasoline  Manual      Used  6222.0   \n",
       "31190  40357.0  Mitsubishi  Space Star  Gasoline  Manual      Used  5444.0   \n",
       "\n",
       "        hp  year  \n",
       "482    NaN  2015  \n",
       "2368   NaN  2015  \n",
       "31190  NaN  2015  "
      ]
     },
     "execution_count": 38,
     "metadata": {},
     "output_type": "execute_result"
    }
   ],
   "source": [
    " car[car.hp.isna()==True][car.make=='Mitsubishi'][car.model=='Space Star']"
   ]
  },
  {
   "cell_type": "markdown",
   "metadata": {},
   "source": [
    "# Removing any other Null values"
   ]
  },
  {
   "cell_type": "code",
   "execution_count": 39,
   "metadata": {},
   "outputs": [],
   "source": [
    "car.dropna(axis=0, how='any', inplace=True)"
   ]
  },
  {
   "cell_type": "code",
   "execution_count": 40,
   "metadata": {},
   "outputs": [
    {
     "data": {
      "text/plain": [
       "mileage      0\n",
       "make         0\n",
       "model        0\n",
       "fuel         0\n",
       "gear         0\n",
       "offerType    0\n",
       "price        0\n",
       "hp           0\n",
       "year         0\n",
       "dtype: int64"
      ]
     },
     "execution_count": 40,
     "metadata": {},
     "output_type": "execute_result"
    }
   ],
   "source": [
    "car.isna().sum()"
   ]
  },
  {
   "cell_type": "code",
   "execution_count": 41,
   "metadata": {},
   "outputs": [
    {
     "data": {
      "text/plain": [
       "(46072, 9)"
      ]
     },
     "execution_count": 41,
     "metadata": {},
     "output_type": "execute_result"
    }
   ],
   "source": [
    "car.shape"
   ]
  },
  {
   "cell_type": "code",
   "execution_count": 42,
   "metadata": {},
   "outputs": [
    {
     "data": {
      "text/html": [
       "<div>\n",
       "<style scoped>\n",
       "    .dataframe tbody tr th:only-of-type {\n",
       "        vertical-align: middle;\n",
       "    }\n",
       "\n",
       "    .dataframe tbody tr th {\n",
       "        vertical-align: top;\n",
       "    }\n",
       "\n",
       "    .dataframe thead th {\n",
       "        text-align: right;\n",
       "    }\n",
       "</style>\n",
       "<table border=\"1\" class=\"dataframe\">\n",
       "  <thead>\n",
       "    <tr style=\"text-align: right;\">\n",
       "      <th></th>\n",
       "      <th>mileage</th>\n",
       "      <th>make</th>\n",
       "      <th>model</th>\n",
       "      <th>fuel</th>\n",
       "      <th>gear</th>\n",
       "      <th>offerType</th>\n",
       "      <th>price</th>\n",
       "      <th>hp</th>\n",
       "      <th>year</th>\n",
       "    </tr>\n",
       "  </thead>\n",
       "  <tbody>\n",
       "    <tr>\n",
       "      <th>0</th>\n",
       "      <td>235000.0</td>\n",
       "      <td>BMW</td>\n",
       "      <td>316</td>\n",
       "      <td>Diesel</td>\n",
       "      <td>Manual</td>\n",
       "      <td>Used</td>\n",
       "      <td>6800.0</td>\n",
       "      <td>116</td>\n",
       "      <td>2011</td>\n",
       "    </tr>\n",
       "    <tr>\n",
       "      <th>1</th>\n",
       "      <td>92800.0</td>\n",
       "      <td>Volkswagen</td>\n",
       "      <td>Golf</td>\n",
       "      <td>Gasoline</td>\n",
       "      <td>Manual</td>\n",
       "      <td>Used</td>\n",
       "      <td>6877.0</td>\n",
       "      <td>122</td>\n",
       "      <td>2011</td>\n",
       "    </tr>\n",
       "    <tr>\n",
       "      <th>2</th>\n",
       "      <td>149300.0</td>\n",
       "      <td>SEAT</td>\n",
       "      <td>Exeo</td>\n",
       "      <td>Gasoline</td>\n",
       "      <td>Manual</td>\n",
       "      <td>Used</td>\n",
       "      <td>6900.0</td>\n",
       "      <td>160</td>\n",
       "      <td>2011</td>\n",
       "    </tr>\n",
       "    <tr>\n",
       "      <th>3</th>\n",
       "      <td>96200.0</td>\n",
       "      <td>Renault</td>\n",
       "      <td>Megane</td>\n",
       "      <td>Gasoline</td>\n",
       "      <td>Manual</td>\n",
       "      <td>Used</td>\n",
       "      <td>6950.0</td>\n",
       "      <td>110</td>\n",
       "      <td>2011</td>\n",
       "    </tr>\n",
       "    <tr>\n",
       "      <th>4</th>\n",
       "      <td>156000.0</td>\n",
       "      <td>Peugeot</td>\n",
       "      <td>308</td>\n",
       "      <td>Gasoline</td>\n",
       "      <td>Manual</td>\n",
       "      <td>Used</td>\n",
       "      <td>6950.0</td>\n",
       "      <td>156</td>\n",
       "      <td>2011</td>\n",
       "    </tr>\n",
       "  </tbody>\n",
       "</table>\n",
       "</div>"
      ],
      "text/plain": [
       "    mileage        make   model      fuel    gear offerType   price   hp  year\n",
       "0  235000.0         BMW     316    Diesel  Manual      Used  6800.0  116  2011\n",
       "1   92800.0  Volkswagen    Golf  Gasoline  Manual      Used  6877.0  122  2011\n",
       "2  149300.0        SEAT    Exeo  Gasoline  Manual      Used  6900.0  160  2011\n",
       "3   96200.0     Renault  Megane  Gasoline  Manual      Used  6950.0  110  2011\n",
       "4  156000.0     Peugeot     308  Gasoline  Manual      Used  6950.0  156  2011"
      ]
     },
     "execution_count": 42,
     "metadata": {},
     "output_type": "execute_result"
    }
   ],
   "source": [
    "car.head()"
   ]
  },
  {
   "cell_type": "markdown",
   "metadata": {},
   "source": [
    "# The most sold car make and model"
   ]
  },
  {
   "cell_type": "code",
   "execution_count": 59,
   "metadata": {},
   "outputs": [
    {
     "data": {
      "text/html": [
       "<div>\n",
       "<style scoped>\n",
       "    .dataframe tbody tr th:only-of-type {\n",
       "        vertical-align: middle;\n",
       "    }\n",
       "\n",
       "    .dataframe tbody tr th {\n",
       "        vertical-align: top;\n",
       "    }\n",
       "\n",
       "    .dataframe thead th {\n",
       "        text-align: right;\n",
       "    }\n",
       "</style>\n",
       "<table border=\"1\" class=\"dataframe\">\n",
       "  <thead>\n",
       "    <tr style=\"text-align: right;\">\n",
       "      <th></th>\n",
       "      <th>mileage</th>\n",
       "      <th>make</th>\n",
       "      <th>model</th>\n",
       "      <th>fuel</th>\n",
       "      <th>gear</th>\n",
       "      <th>offerType</th>\n",
       "      <th>price</th>\n",
       "      <th>hp</th>\n",
       "      <th>year</th>\n",
       "    </tr>\n",
       "  </thead>\n",
       "  <tbody>\n",
       "    <tr>\n",
       "      <th>21675</th>\n",
       "      <td>431.0</td>\n",
       "      <td>Ferrari</td>\n",
       "      <td>F12</td>\n",
       "      <td>Gasoline</td>\n",
       "      <td>Automatic</td>\n",
       "      <td>Used</td>\n",
       "      <td>1199900.0</td>\n",
       "      <td>775</td>\n",
       "      <td>2017</td>\n",
       "    </tr>\n",
       "    <tr>\n",
       "      <th>11753</th>\n",
       "      <td>90.0</td>\n",
       "      <td>Maybach</td>\n",
       "      <td>Pullman</td>\n",
       "      <td>Gasoline</td>\n",
       "      <td>Automatic</td>\n",
       "      <td>Used</td>\n",
       "      <td>717078.0</td>\n",
       "      <td>630</td>\n",
       "      <td>2019</td>\n",
       "    </tr>\n",
       "    <tr>\n",
       "      <th>11754</th>\n",
       "      <td>90.0</td>\n",
       "      <td>Mercedes-Benz</td>\n",
       "      <td>S 650</td>\n",
       "      <td>Gasoline</td>\n",
       "      <td>Automatic</td>\n",
       "      <td>Used</td>\n",
       "      <td>717078.0</td>\n",
       "      <td>630</td>\n",
       "      <td>2019</td>\n",
       "    </tr>\n",
       "    <tr>\n",
       "      <th>16429</th>\n",
       "      <td>3400.0</td>\n",
       "      <td>Maybach</td>\n",
       "      <td>Pullman</td>\n",
       "      <td>Gasoline</td>\n",
       "      <td>Automatic</td>\n",
       "      <td>Used</td>\n",
       "      <td>499800.0</td>\n",
       "      <td>530</td>\n",
       "      <td>2018</td>\n",
       "    </tr>\n",
       "    <tr>\n",
       "      <th>29257</th>\n",
       "      <td>350.0</td>\n",
       "      <td>Mercedes-Benz</td>\n",
       "      <td>SLS</td>\n",
       "      <td>Gasoline</td>\n",
       "      <td>Automatic</td>\n",
       "      <td>Used</td>\n",
       "      <td>465000.0</td>\n",
       "      <td>591</td>\n",
       "      <td>2015</td>\n",
       "    </tr>\n",
       "    <tr>\n",
       "      <th>7384</th>\n",
       "      <td>3600.0</td>\n",
       "      <td>Lamborghini</td>\n",
       "      <td>Aventador</td>\n",
       "      <td>Gasoline</td>\n",
       "      <td>Automatic</td>\n",
       "      <td>Used</td>\n",
       "      <td>449900.0</td>\n",
       "      <td>770</td>\n",
       "      <td>2021</td>\n",
       "    </tr>\n",
       "    <tr>\n",
       "      <th>7383</th>\n",
       "      <td>14090.0</td>\n",
       "      <td>Lamborghini</td>\n",
       "      <td>Aventador</td>\n",
       "      <td>Gasoline</td>\n",
       "      <td>Automatic</td>\n",
       "      <td>Employee's car</td>\n",
       "      <td>439900.0</td>\n",
       "      <td>770</td>\n",
       "      <td>2021</td>\n",
       "    </tr>\n",
       "    <tr>\n",
       "      <th>18419</th>\n",
       "      <td>6500.0</td>\n",
       "      <td>Ferrari</td>\n",
       "      <td>812</td>\n",
       "      <td>Gasoline</td>\n",
       "      <td>Automatic</td>\n",
       "      <td>Demonstration</td>\n",
       "      <td>439900.0</td>\n",
       "      <td>799</td>\n",
       "      <td>2021</td>\n",
       "    </tr>\n",
       "    <tr>\n",
       "      <th>2170</th>\n",
       "      <td>1200.0</td>\n",
       "      <td>Lamborghini</td>\n",
       "      <td>Aventador</td>\n",
       "      <td>Gasoline</td>\n",
       "      <td>Automatic</td>\n",
       "      <td>Used</td>\n",
       "      <td>399999.0</td>\n",
       "      <td>700</td>\n",
       "      <td>2016</td>\n",
       "    </tr>\n",
       "    <tr>\n",
       "      <th>42132</th>\n",
       "      <td>4624.0</td>\n",
       "      <td>Porsche</td>\n",
       "      <td>991</td>\n",
       "      <td>Gasoline</td>\n",
       "      <td>Automatic</td>\n",
       "      <td>Used</td>\n",
       "      <td>399911.0</td>\n",
       "      <td>700</td>\n",
       "      <td>2018</td>\n",
       "    </tr>\n",
       "  </tbody>\n",
       "</table>\n",
       "</div>"
      ],
      "text/plain": [
       "       mileage           make      model      fuel       gear       offerType  \\\n",
       "21675    431.0        Ferrari        F12  Gasoline  Automatic            Used   \n",
       "11753     90.0        Maybach    Pullman  Gasoline  Automatic            Used   \n",
       "11754     90.0  Mercedes-Benz      S 650  Gasoline  Automatic            Used   \n",
       "16429   3400.0        Maybach    Pullman  Gasoline  Automatic            Used   \n",
       "29257    350.0  Mercedes-Benz        SLS  Gasoline  Automatic            Used   \n",
       "7384    3600.0    Lamborghini  Aventador  Gasoline  Automatic            Used   \n",
       "7383   14090.0    Lamborghini  Aventador  Gasoline  Automatic  Employee's car   \n",
       "18419   6500.0        Ferrari        812  Gasoline  Automatic   Demonstration   \n",
       "2170    1200.0    Lamborghini  Aventador  Gasoline  Automatic            Used   \n",
       "42132   4624.0        Porsche        991  Gasoline  Automatic            Used   \n",
       "\n",
       "           price   hp  year  \n",
       "21675  1199900.0  775  2017  \n",
       "11753   717078.0  630  2019  \n",
       "11754   717078.0  630  2019  \n",
       "16429   499800.0  530  2018  \n",
       "29257   465000.0  591  2015  \n",
       "7384    449900.0  770  2021  \n",
       "7383    439900.0  770  2021  \n",
       "18419   439900.0  799  2021  \n",
       "2170    399999.0  700  2016  \n",
       "42132   399911.0  700  2018  "
      ]
     },
     "execution_count": 59,
     "metadata": {},
     "output_type": "execute_result"
    }
   ],
   "source": [
    "car.nlargest(10, 'price', keep='all')"
   ]
  },
  {
   "cell_type": "code",
   "execution_count": 65,
   "metadata": {},
   "outputs": [
    {
     "data": {
      "text/plain": [
       "<AxesSubplot:xlabel='make'>"
      ]
     },
     "execution_count": 65,
     "metadata": {},
     "output_type": "execute_result"
    },
    {
     "data": {
      "image/png": "[encoded data removed]",
      "text/plain": [
       "<Figure size 432x288 with 1 Axes>"
      ]
     },
     "metadata": {
      "needs_background": "light"
     },
     "output_type": "display_data"
    }
   ],
   "source": [
    "car.value_counts(subset='make').nlargest(10).plot(kind='bar')"
   ]
  },
  {
   "cell_type": "code",
   "execution_count": 67,
   "metadata": {},
   "outputs": [
    {
     "data": {
      "text/plain": [
       "<AxesSubplot:ylabel='None'>"
      ]
     },
     "execution_count": 67,
     "metadata": {},
     "output_type": "execute_result"
    },
    {
     "data": {
      "image/png": "[encoded data removed]",
      "text/plain": [
       "<Figure size 432x288 with 1 Axes>"
      ]
     },
     "metadata": {},
     "output_type": "display_data"
    }
   ],
   "source": [
    "car.value_counts(subset='make').nlargest(10).plot(kind='pie')"
   ]
  },
  {
   "cell_type": "code",
   "execution_count": 69,
   "metadata": {},
   "outputs": [
    {
     "data": {
      "text/plain": [
       "model\n",
       "Golf       1489\n",
       "Corsa      1485\n",
       "Fiesta     1273\n",
       "Astra      1190\n",
       "Focus       985\n",
       "up!         943\n",
       "Fabia       916\n",
       "Polo        893\n",
       "forTwo      710\n",
       "Octavia     665\n",
       "dtype: int64"
      ]
     },
     "execution_count": 69,
     "metadata": {},
     "output_type": "execute_result"
    }
   ],
   "source": [
    "\n",
    "car.value_counts('model').nlargest(10)"
   ]
  }
 ],
 "metadata": {
  "kernelspec": {
   "display_name": "Python 3",
   "language": "python",
   "name": "python3"
  },
  "language_info": {
   "codemirror_mode": {
    "name": "ipython",
    "version": 3
   },
   "file_extension": ".py",
   "mimetype": "text/x-python",
   "name": "python",
   "nbconvert_exporter": "python",
   "pygments_lexer": "ipython3",
   "version": "3.8.5"
  }
 },
 "nbformat": 4,
 "nbformat_minor": 4
}
